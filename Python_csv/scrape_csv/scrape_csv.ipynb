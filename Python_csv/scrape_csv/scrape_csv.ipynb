{
 "cells": [
  {
   "cell_type": "code",
   "execution_count": null,
   "id": "2be61f66-b9ef-4d95-95f5-566a7b4de5d8",
   "metadata": {},
   "outputs": [],
   "source": []
  },
  {
   "cell_type": "markdown",
   "id": "d0f1380e-a321-4f5e-8f26-538d8c4a3baa",
   "metadata": {},
   "source": [
    "# ST2195 Assignment 2 – Web Scraping in Python\n",
    "**Author:** Juei Sheng  \n",
    "**Description:**  \n",
    "This notebook demonstrates how to scrape a sample CSV table from the Wikipedia page on *Delimiter-separated values* using `BeautifulSoup` and `pandas`.\n"
   ]
  },
  {
   "cell_type": "code",
   "execution_count": 2,
   "id": "c6917112-6cfd-4098-ae32-3bf5232e9392",
   "metadata": {},
   "outputs": [],
   "source": [
    "from bs4 import BeautifulSoup\n",
    "import requests\n",
    "import pandas as pd\n"
   ]
  },
  {
   "cell_type": "code",
   "execution_count": 6,
   "id": "cee4ea6f-ead9-4c0d-8415-919c84ae7d36",
   "metadata": {},
   "outputs": [],
   "source": [
    "# 1. Define target URL\n",
    "url = \"https://en.wikipedia.org/wiki/Delimiter-separated_values\"\n",
    "\n",
    "headers = {\n",
    "    \"User-Agent\": \"Mozilla/5.0 (Windows NT 10.0; Win64; x64) \"\n",
    "                  \"AppleWebKit/537.36 (KHTML, like Gecko) \"\n",
    "                  \"Chrome/120.0.0.0 Safari/537.36\",\n",
    "    \"Accept-Language\": \"en-US,en;q=0.9\",\n",
    "    \"Referer\": \"https://www.google.com/\"\n",
    "}\n",
    "# 2. Send HTTP request to fetch the page\n",
    "response = requests.get(url,headers=headers)\n",
    "response.raise_for_status()  # Ensures it stops if connection fails\n",
    "# print(\"raw response:\", response.text[:500])  # Print first 500 characters of raw response\n",
    "# 3. Parse HTML with BeautifulSoup\n",
    "soup = BeautifulSoup(response.text, \"html.parser\")\n",
    "# print(soup)\n",
    "# 4. Find all tables on the page"
   ]
  },
  {
   "cell_type": "code",
   "execution_count": 7,
   "id": "3522298d-046d-4593-8634-19a91abadd43",
   "metadata": {},
   "outputs": [
    {
     "name": "stdout",
     "output_type": "stream",
     "text": [
      "Found 1 tables on the page.\n",
      "      Delimiter-separated values     Delimiter-separated values.1\n",
      "0  Uniform Type Identifier (UTI)  public.delimited-values-text[1]\n"
     ]
    },
    {
     "name": "stderr",
     "output_type": "stream",
     "text": [
      "C:\\Users\\User\\AppData\\Local\\Temp\\ipykernel_3528\\1762245361.py:6: FutureWarning: Passing literal html to 'read_html' is deprecated and will be removed in a future version. To read from a literal string, wrap it in a 'StringIO' object.\n",
      "  df = pd.read_html(str(tables[0]))[0]\n"
     ]
    }
   ],
   "source": [
    "tables = soup.find_all(\"table\")\n",
    "print(f\"Found {len(tables)} tables on the page.\")\n",
    "# 5. Convert the first table into a pandas DataFrame\n",
    "try:\n",
    "    #convert the first table to a DataFrame\n",
    "    df = pd.read_html(str(tables[0]))[0]\n",
    "    print(df.head())  # Print first few rows of the DataFrame\n",
    "    \n",
    "except IndexError as e:\n",
    "    print(\"No tables found on the page.\")"
   ]
  },
  {
   "cell_type": "code",
   "execution_count": 8,
   "id": "6556b0cd-7df8-401f-bd92-a44b326a8c7c",
   "metadata": {},
   "outputs": [
    {
     "name": "stdout",
     "output_type": "stream",
     "text": [
      "      Delimiter-separated values     Delimiter-separated values.1\n",
      "0  Uniform Type Identifier (UTI)  public.delimited-values-text[1]\n"
     ]
    }
   ],
   "source": [
    "# 6. Save the table as CSV\n",
    "df.to_csv(\"csv_example_py.csv\", index=False)\n",
    "\n",
    "# 7. Verify by reading it back\n",
    "verified = pd.read_csv(\"csv_example_py.csv\")\n",
    "print(verified.head())"
   ]
  },
  {
   "cell_type": "code",
   "execution_count": null,
   "id": "2e23272f-d8d7-4f06-a633-1c8d7fcb96ed",
   "metadata": {},
   "outputs": [],
   "source": []
  }
 ],
 "metadata": {
  "kernelspec": {
   "display_name": "Python [conda env:base] *",
   "language": "python",
   "name": "conda-base-py"
  },
  "language_info": {
   "codemirror_mode": {
    "name": "ipython",
    "version": 3
   },
   "file_extension": ".py",
   "mimetype": "text/x-python",
   "name": "python",
   "nbconvert_exporter": "python",
   "pygments_lexer": "ipython3",
   "version": "3.13.5"
  }
 },
 "nbformat": 4,
 "nbformat_minor": 5
}
